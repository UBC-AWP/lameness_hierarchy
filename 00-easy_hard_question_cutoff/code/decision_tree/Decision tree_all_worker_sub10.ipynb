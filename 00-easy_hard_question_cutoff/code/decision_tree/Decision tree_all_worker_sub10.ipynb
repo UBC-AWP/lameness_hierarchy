{
 "cells": [
  {
   "cell_type": "markdown",
   "metadata": {
    "collapsed": true,
    "jupyter": {
     "outputs_hidden": true
    }
   },
   "source": [
    "### Import data set and get X and y matrix for test & train"
   ]
  },
  {
   "cell_type": "code",
   "execution_count": 5,
   "metadata": {
    "pycharm": {
     "is_executing": true
    }
   },
   "outputs": [],
   "source": [
    "import bz2\n",
    "import zipfile\n",
    "import pandas as pd\n",
    "import os\n",
    "import numpy as np\n",
    "from sklearn.model_selection import train_test_split\n",
    "from sklearn.tree import DecisionTreeClassifier\n",
    "from sklearn.metrics import classification_report\n",
    "from sklearn.metrics import accuracy_score\n",
    "from sklearn.metrics import f1_score\n",
    "\n",
    "# import data\n",
    "df = pd.read_csv(\"..\\\\..\\\\data\\\\all_worker_sub10.csv\")\n",
    "# df = pd.read_csv(\"00-easy_hard_question_cutoff/data/all_worker_sub10.csv\") #mac\n",
    "# Keep only the columns with certain names\n",
    "columns_to_keep = ['Median', 'direction_pct', 'question_type']\n",
    "#columns_to_keep = ['Mean', 'Median', 'Mode', 'SD', 'direction_pct','complete_time_median', 'complete_time_sd', 'question_type']\n",
    "df2 = df.loc[:, columns_to_keep]\n",
    "\n",
    "# Separate features and target variable\n",
    "X = df2.drop('question_type', axis=1)  # Features (all columns except \"question_type\")\n",
    "y = df2['question_type']               # Target variable (\"question_type\")\n",
    "\n",
    "# Create a new DataFrame to store the percentage of \"hard\" and \"easy\" rows\n",
    "y_counts = pd.DataFrame(y.value_counts(normalize=True))\n",
    "y_counts.columns = ['Percentage']\n",
    "\n",
    "# Split the dataset into training and test sets\n",
    "X_train, X_test, y_train, y_test = train_test_split(X, y, test_size=0.3, random_state=42)\n"
   ]
  },
  {
   "cell_type": "code",
   "execution_count": 6,
   "metadata": {
    "collapsed": false,
    "jupyter": {
     "outputs_hidden": false
    }
   },
   "outputs": [],
   "source": [
    "# this is a test"
   ]
  },
  {
   "cell_type": "code",
   "execution_count": 7,
   "metadata": {
    "collapsed": false,
    "jupyter": {
     "outputs_hidden": false
    }
   },
   "outputs": [
    {
     "data": {
      "text/html": [
       "<div>\n",
       "<style scoped>\n",
       "    .dataframe tbody tr th:only-of-type {\n",
       "        vertical-align: middle;\n",
       "    }\n",
       "\n",
       "    .dataframe tbody tr th {\n",
       "        vertical-align: top;\n",
       "    }\n",
       "\n",
       "    .dataframe thead th {\n",
       "        text-align: right;\n",
       "    }\n",
       "</style>\n",
       "<table border=\"1\" class=\"dataframe\">\n",
       "  <thead>\n",
       "    <tr style=\"text-align: right;\">\n",
       "      <th></th>\n",
       "      <th>Median</th>\n",
       "      <th>direction_pct</th>\n",
       "    </tr>\n",
       "  </thead>\n",
       "  <tbody>\n",
       "    <tr>\n",
       "      <th>236</th>\n",
       "      <td>-3.0</td>\n",
       "      <td>100</td>\n",
       "    </tr>\n",
       "    <tr>\n",
       "      <th>159</th>\n",
       "      <td>-1.5</td>\n",
       "      <td>80</td>\n",
       "    </tr>\n",
       "    <tr>\n",
       "      <th>146</th>\n",
       "      <td>1.0</td>\n",
       "      <td>60</td>\n",
       "    </tr>\n",
       "    <tr>\n",
       "      <th>69</th>\n",
       "      <td>1.0</td>\n",
       "      <td>60</td>\n",
       "    </tr>\n",
       "    <tr>\n",
       "      <th>2</th>\n",
       "      <td>-2.5</td>\n",
       "      <td>90</td>\n",
       "    </tr>\n",
       "    <tr>\n",
       "      <th>...</th>\n",
       "      <td>...</td>\n",
       "      <td>...</td>\n",
       "    </tr>\n",
       "    <tr>\n",
       "      <th>20</th>\n",
       "      <td>3.0</td>\n",
       "      <td>100</td>\n",
       "    </tr>\n",
       "    <tr>\n",
       "      <th>188</th>\n",
       "      <td>0.0</td>\n",
       "      <td>40</td>\n",
       "    </tr>\n",
       "    <tr>\n",
       "      <th>71</th>\n",
       "      <td>1.5</td>\n",
       "      <td>50</td>\n",
       "    </tr>\n",
       "    <tr>\n",
       "      <th>106</th>\n",
       "      <td>0.0</td>\n",
       "      <td>40</td>\n",
       "    </tr>\n",
       "    <tr>\n",
       "      <th>102</th>\n",
       "      <td>-3.0</td>\n",
       "      <td>90</td>\n",
       "    </tr>\n",
       "  </tbody>\n",
       "</table>\n",
       "<p>184 rows × 2 columns</p>\n",
       "</div>"
      ],
      "text/plain": [
       "     Median  direction_pct\n",
       "236    -3.0            100\n",
       "159    -1.5             80\n",
       "146     1.0             60\n",
       "69      1.0             60\n",
       "2      -2.5             90\n",
       "..      ...            ...\n",
       "20      3.0            100\n",
       "188     0.0             40\n",
       "71      1.5             50\n",
       "106     0.0             40\n",
       "102    -3.0             90\n",
       "\n",
       "[184 rows x 2 columns]"
      ]
     },
     "execution_count": 7,
     "metadata": {},
     "output_type": "execute_result"
    }
   ],
   "source": [
    "X_train"
   ]
  },
  {
   "cell_type": "markdown",
   "metadata": {},
   "source": [
    "### fit a decision tree"
   ]
  },
  {
   "cell_type": "code",
   "execution_count": 8,
   "metadata": {},
   "outputs": [
    {
     "name": "stdout",
     "output_type": "stream",
     "text": [
      "              precision    recall  f1-score   support\n",
      "\n",
      "        easy       0.74      0.84      0.78        37\n",
      "        hard       0.84      0.74      0.79        43\n",
      "\n",
      "    accuracy                           0.79        80\n",
      "   macro avg       0.79      0.79      0.79        80\n",
      "weighted avg       0.79      0.79      0.79        80\n",
      "\n"
     ]
    }
   ],
   "source": [
    "\n",
    "# Train a decision tree model\n",
    "clf = DecisionTreeClassifier(random_state=42, max_depth = 3)\n",
    "clf.fit(X_train, y_train)\n",
    "\n",
    "# Predict the class labels for the test set\n",
    "y_pred = clf.predict(X_test)\n",
    "\n",
    "# Compute the classification report\n",
    "report = classification_report(y_test, y_pred)\n",
    "\n",
    "# Print the classification report\n",
    "print(report)"
   ]
  },
  {
   "cell_type": "code",
   "execution_count": 9,
   "metadata": {},
   "outputs": [
    {
     "name": "stdout",
     "output_type": "stream",
     "text": [
      "|--- direction_pct <= 75.00\n",
      "|   |--- Median <= -0.75\n",
      "|   |   |--- Median <= -1.25\n",
      "|   |   |   |--- class: easy\n",
      "|   |   |--- Median >  -1.25\n",
      "|   |   |   |--- class: hard\n",
      "|   |--- Median >  -0.75\n",
      "|   |   |--- Median <= 1.25\n",
      "|   |   |   |--- class: hard\n",
      "|   |   |--- Median >  1.25\n",
      "|   |   |   |--- class: easy\n",
      "|--- direction_pct >  75.00\n",
      "|   |--- Median <= -1.75\n",
      "|   |   |--- class: easy\n",
      "|   |--- Median >  -1.75\n",
      "|   |   |--- Median <= 2.50\n",
      "|   |   |   |--- class: easy\n",
      "|   |   |--- Median >  2.50\n",
      "|   |   |   |--- class: easy\n",
      "\n"
     ]
    }
   ],
   "source": [
    "from sklearn.tree import export_text\n",
    "\n",
    "# Print out the decision tree structure\n",
    "tree_rules = export_text(clf, feature_names=list(X.columns))\n",
    "print(tree_rules)"
   ]
  },
  {
   "cell_type": "markdown",
   "metadata": {},
   "source": [
    "### Feature selection"
   ]
  },
  {
   "cell_type": "markdown",
   "metadata": {},
   "source": [
    " forward feature selection using decision tree"
   ]
  },
  {
   "cell_type": "code",
   "execution_count": 10,
   "metadata": {},
   "outputs": [
    {
     "name": "stdout",
     "output_type": "stream",
     "text": [
      "Selected feature #1: direction_pct (F1-score: 0.759)\n",
      "Selected feature #2: Median (F1-score: 0.763)\n"
     ]
    }
   ],
   "source": [
    "# Create a list to store the selected features\n",
    "selected_features = []\n",
    "\n",
    "# Loop through the features and select the best one\n",
    "for i in range(len(X.columns)):\n",
    "    best_feature = None\n",
    "    best_score = 0\n",
    "    \n",
    "    for feature in X.columns:\n",
    "        # Skip the features that have already been selected\n",
    "        if feature in selected_features:\n",
    "            continue\n",
    "        \n",
    "        # Add the feature to the list of selected features\n",
    "        candidate_features = selected_features + [feature]\n",
    "        \n",
    "        # Train a decision tree model on the selected features\n",
    "        clf = DecisionTreeClassifier(random_state=42)\n",
    "        clf.fit(X_train[candidate_features], y_train)\n",
    "        \n",
    "        # Predict the class labels for the test set\n",
    "        y_pred = clf.predict(X_test[candidate_features])\n",
    "        \n",
    "        # Compute the F1-score for the test set\n",
    "        score = f1_score(y_test, y_pred, average='weighted')\n",
    "        \n",
    "        # Update the best feature if necessary\n",
    "        if score > best_score:\n",
    "            best_feature = feature\n",
    "            best_score = score\n",
    "    \n",
    "    # Add the best feature to the list of selected features\n",
    "    selected_features.append(best_feature)\n",
    "    print(f'Selected feature #{i+1}: {best_feature} (F1-score: {best_score:.3f})')"
   ]
  },
  {
   "cell_type": "code",
   "execution_count": 17,
   "metadata": {},
   "outputs": [],
   "source": []
  }
 ],
 "metadata": {
  "kernelspec": {
   "display_name": "Python 3 (ipykernel)",
   "language": "python",
   "name": "python3"
  },
  "language_info": {
   "codemirror_mode": {
    "name": "ipython",
    "version": 3
   },
   "file_extension": ".py",
   "mimetype": "text/x-python",
   "name": "python",
   "nbconvert_exporter": "python",
   "pygments_lexer": "ipython3",
   "version": "3.11.13"
  }
 },
 "nbformat": 4,
 "nbformat_minor": 4
}
